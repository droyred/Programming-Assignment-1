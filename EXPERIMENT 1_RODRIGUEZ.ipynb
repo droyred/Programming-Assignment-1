{
 "cells": [
  {
   "cell_type": "markdown",
   "id": "728655e5-dbad-490f-8035-91caac91b960",
   "metadata": {},
   "source": [
    "# EXPERIMENT 1 - RODRIGUEZ, Andrei Joshua\n",
    "INTRODUCTION TO PYTHON PROGRAMMING\n",
    "- To identify the basic codes and functions in Python Programming\n",
    "- To be able to apply the different codes and functions in creating a Python program"
   ]
  },
  {
   "cell_type": "markdown",
   "id": "10fb00d6-653e-49ae-bc94-cede136a27c7",
   "metadata": {},
   "source": [
    "*Write a Python script/code in the Jupyter Notebook to do the given problems.*\n",
    "\n",
    "**1. ALPHABET SOUP PROBLEM**: Create a function that takes a string and returns a string with its letters in alphabetical order."
   ]
  },
  {
   "cell_type": "code",
   "execution_count": 65,
   "id": "6bab633e-7ec5-47ff-90b3-64fb5eb1710e",
   "metadata": {},
   "outputs": [
    {
     "name": "stdout",
     "output_type": "stream",
     "text": [
      " aadelllmsu\n"
     ]
    }
   ],
   "source": [
    "def the_alphabet(alphabet_sorting):\n",
    "    char_list = list(alphabet_sorting)\n",
    "    char_list.sort()\n",
    "    sorted_string = ''.join(char_list)\n",
    "    return sorted_string\n",
    "\n",
    "result = the_alphabet(\"small laude\")\n",
    "print(result)  "
   ]
  },
  {
   "cell_type": "markdown",
   "id": "86956236-9d1e-400f-9c56-60556dc15780",
   "metadata": {},
   "source": [
    "**2. EMOTICON PROBLEM**: Create a function that changes specific words into emoticons. "
   ]
  },
  {
   "cell_type": "code",
   "execution_count": 98,
   "id": "b8be31ce-ff2c-4520-ba80-66f3ad7a3dcb",
   "metadata": {},
   "outputs": [
    {
     "name": "stdout",
     "output_type": "stream",
     "text": [
      "I want to :) and :D , but instead I feel :( today. and that makes me very very >:( !!\n"
     ]
    }
   ],
   "source": [
    "def the_emoticons(sentence):\n",
    "    emoticons = {\n",
    "        \"smile\": \":)\",\n",
    "        \"grin\": \":D\",\n",
    "        \"sad\": \":(\",\n",
    "        \"mad\": \">:(\"\n",
    "    }\n",
    "    \n",
    "    for word, emoticon in emoticons.items():\n",
    "        sentence = sentence.replace(word, emoticon)\n",
    "    return sentence\n",
    "\n",
    "sentence = \"I want to smile and grin , but instead I feel sad today. and that makes me very very mad !!\"\n",
    "result = the_emoticons(sentence)\n",
    "print(result)"
   ]
  },
  {
   "cell_type": "markdown",
   "id": "269ab952-af1f-48ca-afd5-5aa04d4aede6",
   "metadata": {},
   "source": [
    "**3. UNPACKING LIST PROBLEM**: Unpack the list writeyourcodehere into three variables, being first, middle, and last, with middle being everything in between the first and last element. Then print all three variables."
   ]
  },
  {
   "cell_type": "code",
   "execution_count": 104,
   "id": "86cc13c3-206a-4282-be95-951a294a7f6c",
   "metadata": {},
   "outputs": [
    {
     "name": "stdout",
     "output_type": "stream",
     "text": [
      "first: 1\n",
      "middle: [2, 3, 4, 5]\n",
      "last: 6\n"
     ]
    }
   ],
   "source": [
    "lst = [1, 2, 3, 4, 5, 6]\n",
    "\n",
    "first, *middle, last = lst\n",
    "\n",
    "print(f\"first: {first}\")\n",
    "print(f\"middle: {middle}\")\n",
    "print(f\"last: {last}\")\n"
   ]
  },
  {
   "cell_type": "code",
   "execution_count": null,
   "id": "c5a393ba-6bfa-4d40-aba7-c3fc776d67c3",
   "metadata": {},
   "outputs": [],
   "source": []
  }
 ],
 "metadata": {
  "kernelspec": {
   "display_name": "Python 3 (ipykernel)",
   "language": "python",
   "name": "python3"
  },
  "language_info": {
   "codemirror_mode": {
    "name": "ipython",
    "version": 3
   },
   "file_extension": ".py",
   "mimetype": "text/x-python",
   "name": "python",
   "nbconvert_exporter": "python",
   "pygments_lexer": "ipython3",
   "version": "3.12.4"
  }
 },
 "nbformat": 4,
 "nbformat_minor": 5
}
